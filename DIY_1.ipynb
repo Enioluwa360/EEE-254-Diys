{
 "cells": [
  {
   "cell_type": "markdown",
   "metadata": {},
   "source": [
    "# DIYS\n",
    "##  1: Time a code takes to be executed"
   ]
  },
  {
   "cell_type": "code",
   "execution_count": 1,
   "metadata": {},
   "outputs": [
    {
     "name": "stdout",
     "output_type": "stream",
     "text": [
      "Enter a positive integer:20\n",
      "20\n",
      "Total time taken: 4.334751129150391 seconds\n"
     ]
    }
   ],
   "source": [
    "import time\n",
    "\n",
    "start_time = time.time()\n",
    "\n",
    "max_val = int(input('Enter a positive integer:'))\n",
    "i = 0 \n",
    "while i < max_val:\n",
    "    i = i +1\n",
    "print(i)\n",
    "\n",
    "end_time = time.time()\n",
    "\n",
    "total_time = end_time - start_time\n",
    "print(\"Total time taken:\", total_time, \"seconds\")"
   ]
  },
  {
   "cell_type": "markdown",
   "metadata": {},
   "source": [
    "# DIY 2\n"
   ]
  },
  {
   "cell_type": "code",
   "execution_count": 2,
   "metadata": {},
   "outputs": [
    {
     "name": "stdout",
     "output_type": "stream",
     "text": [
      "Enter an integer greater than 2: 10\n",
      "Largest divisor of 10 is 5\n"
     ]
    }
   ],
   "source": [
    "x = int(input('Enter an integer greater than 2: '))\n",
    "largest_divisor = None\n",
    "for guess in range(2, x):\n",
    "    if x%guess == 0: \n",
    "        largest_divisor = guess\n",
    "if largest_divisor != None:\n",
    "    print('Largest divisor of', x,'is', largest_divisor)\n",
    "else:\n",
    "    print(x, 'is a prime number') "
   ]
  },
  {
   "cell_type": "markdown",
   "metadata": {},
   "source": [
    "# DIY 3\n",
    "## The  sum  of  the  prime numbers greater than  2 and less than  1000"
   ]
  },
  {
   "cell_type": "code",
   "execution_count": 10,
   "metadata": {},
   "outputs": [
    {
     "name": "stdout",
     "output_type": "stream",
     "text": [
      "76125\n"
     ]
    }
   ],
   "source": [
    "primes = 0\n",
    "for i in range(3,1001):\n",
    "    for j in range(2,i):\n",
    "        if i%j == 0:\n",
    "            break\n",
    "    else:\n",
    "        primes+=i\n",
    "print(primes)"
   ]
  },
  {
   "cell_type": "markdown",
   "metadata": {},
   "source": [
    "# DIY 4    "
   ]
  },
  {
   "cell_type": "code",
   "execution_count": 15,
   "metadata": {},
   "outputs": [
    {
     "data": {
      "image/png": "[encoded data removed]",
      "text/plain": [
       "<Figure size 432x288 with 1 Axes>"
      ]
     },
     "metadata": {
      "needs_background": "light"
     },
     "output_type": "display_data"
    }
   ],
   "source": [
    "num_of_digits = []\n",
    "num_of_tries = []\n",
    "for i in range(2, 14,2):\n",
    "    x = i\n",
    "    epsilon= 0.01\n",
    "    num_guesses, low = 0,0\n",
    "    high = max(1,x)\n",
    "    ans = (high +low)/ 2\n",
    "    while abs(ans**2 - x)>= epsilon:\n",
    "        num_guesses +=1\n",
    "        if ans**2 < x:\n",
    "            low = ans\n",
    "        else:\n",
    "            high = ans\n",
    "        ans = (high + low)/2\n",
    "        num_of_digits.append(i)\n",
    "        num_of_tries.append( num_guesses)\n",
    "import matplotlib.pyplot as plt\n",
    "plt.plot(num_of_digits, num_of_tries)\n",
    "plt.xlabel('Number of digits')\n",
    "plt.ylabel('Number of tries');"
   ]
  },
  {
   "cell_type": "markdown",
   "metadata": {},
   "source": [
    "## DIY 5\n",
    "## Product of two numbers by summing the log of two numbers and finding the antilog\n"
   ]
  },
  {
   "cell_type": "code",
   "execution_count": 11,
   "metadata": {},
   "outputs": [
    {
     "name": "stdout",
     "output_type": "stream",
     "text": [
      "Enter the first number:5\n",
      "Enter the second number:3\n",
      "The product of  5.0 and 3.0 is 15.000000000000004\n"
     ]
    }
   ],
   "source": [
    "import math\n",
    "num1 = float(input('Enter the first number:'))\n",
    "num2 = float(input('Enter the second number:'))\n",
    "log_product = math.log10(num1) + math.log10(num2)\n",
    "product = 10 **log_product\n",
    "print(\"The product of \", num1, \"and\", num2,\"is\", product)"
   ]
  },
  {
   "cell_type": "markdown",
   "metadata": {},
   "source": [
    "# DIY 6"
   ]
  },
  {
   "cell_type": "code",
   "execution_count": 12,
   "metadata": {},
   "outputs": [
    {
     "name": "stdout",
     "output_type": "stream",
     "text": [
      "Enter the first number:6\n",
      "Enter the second number:7\n",
      "The product of  6.0 and 7.0 is 41.999999999999986\n",
      "The gain of 32.46498580795801 is dB\n"
     ]
    }
   ],
   "source": [
    "import math\n",
    "num1 = float(input('Enter the first number:'))\n",
    "num2 = float(input('Enter the second number:'))\n",
    "\n",
    "log_product = math.log10(num1) + math.log10(num2)\n",
    "product = 10 **log_product\n",
    "gain = 20* math.log10(product)\n",
    "\n",
    "print(\"The product of \", num1, \"and\", num2,\"is\", product)\n",
    "print('The gain of', gain, \"is\", \"dB\")"
   ]
  },
  {
   "cell_type": "code",
   "execution_count": null,
   "metadata": {},
   "outputs": [],
   "source": []
  }
 ],
 "metadata": {
  "kernelspec": {
   "display_name": "Python 3",
   "language": "python",
   "name": "python3"
  },
  "language_info": {
   "codemirror_mode": {
    "name": "ipython",
    "version": 3
   },
   "file_extension": ".py",
   "mimetype": "text/x-python",
   "name": "python",
   "nbconvert_exporter": "python",
   "pygments_lexer": "ipython3",
   "version": "3.7.0"
  }
 },
 "nbformat": 4,
 "nbformat_minor": 2
}
